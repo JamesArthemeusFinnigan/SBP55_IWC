{
 "cells": [
  {
   "cell_type": "markdown",
   "id": "ea0bde54-ad7a-4997-bf4e-86bcb9aa9492",
   "metadata": {},
   "source": [
    "# Index\n",
    "## Sentiment Analysis"
   ]
  },
  {
   "cell_type": "markdown",
   "id": "657c4473-8381-4ac3-a437-e46b864c2b86",
   "metadata": {},
   "source": [
    "For the Sentiment and emotional analysis, two corpora were used: The AFINN Sentiment lexicon and the NRC EmoLex. AFINN is able to easily provide a sentiment (positive or negative) of a text, NRC EmoLex is able to provide both a sentiment (which will be ignored, as AFINN is likely more precise), and an emotional association with 8 different emotions.\n",
    "\n",
    "## E.g:"
   ]
  },
  {
   "cell_type": "code",
   "execution_count": 1,
   "id": "d0964f99-c567-47e7-94f2-183aff9f2e38",
   "metadata": {},
   "outputs": [],
   "source": [
    "import numpy as np\n",
    "import pandas as pd\n",
    "from afinn import Afinn\n",
    "afn = Afinn()"
   ]
  },
  {
   "cell_type": "code",
   "execution_count": 2,
   "id": "e401b573-5d86-48fb-8285-103cd05991e7",
   "metadata": {},
   "outputs": [],
   "source": [
    "df_NRC = pd.read_csv(\"processed/NRC-Emotion-Lexicon-Wordlevel-v0.92.txt\", sep=\"\\t\", index_col=0, header=None)\n",
    "df_NRC.index.name = 'word'\n",
    "df_NRC.rename(columns={ df_NRC.columns[0]: \"emotion\", df_NRC.columns[1]: \"association\" }, inplace = True)"
   ]
  },
  {
   "cell_type": "code",
   "execution_count": 3,
   "id": "16e72c53-921d-4830-b572-34f73ff43048",
   "metadata": {},
   "outputs": [],
   "source": [
    "def nrc_sentiment(sentence):\n",
    "    test = [\"anger\",0],[\"anticipation\",0],[\"disgust\",0],[\"fear\",0],[\"joy\",0],[\"negative\",0],[\"positive\",0],[\"sadness\",0],[\"surprise\",0],[\"trust\",0]\n",
    "    df_overallScore = pd.DataFrame(test, columns=[\"emotion\", \"association\"])\n",
    "    for word in sentence.split():\n",
    "        if word not in df_NRC.index:\n",
    "            continue\n",
    "        else:\n",
    "            df_test = df_NRC.loc[word].reset_index().iloc[:,1:]\n",
    "            df_overallScore[\"association\"] = df_overallScore[\"association\"]+df_test[\"association\"]\n",
    "    return df_overallScore"
   ]
  },
  {
   "cell_type": "code",
   "execution_count": 4,
   "id": "17230a8e-fb06-4547-8b13-188f018b23ef",
   "metadata": {},
   "outputs": [
    {
     "name": "stdout",
     "output_type": "stream",
     "text": [
      "The sentence \"Knowledgeable and friendly staff who are very willing to spend time talking you through the history and design behind their models\" has a AFINN Score of 2.0 and an NRC Score of according to the following matrix:\n",
      "\n",
      "        emotion  association\n",
      "0         anger            0\n",
      "1  anticipation            2\n",
      "2       disgust            0\n",
      "3          fear            0\n",
      "4           joy            1\n",
      "5      negative            0\n",
      "6      positive            1\n",
      "7       sadness            0\n",
      "8      surprise            0\n",
      "9         trust            1\n"
     ]
    }
   ],
   "source": [
    "sentence_to_be_analysed = \"Knowledgeable and friendly staff who are very willing to spend time talking you through the history and design behind their models\"\n",
    "afinn_score = afn.score(sentence_to_be_analysed)\n",
    "nrc_score = nrc_sentiment(sentence_to_be_analysed)\n",
    "\n",
    "print(f\"The sentence \\\"{sentence_to_be_analysed}\\\" has a AFINN Score of {afinn_score} and an NRC Score of according to the following matrix:\\n\")\n",
    "print(nrc_score)"
   ]
  },
  {
   "cell_type": "markdown",
   "id": "9719c607-b5ce-4501-9757-6b82a1051f5c",
   "metadata": {},
   "source": [
    "## Practical usage:\n",
    "Thanks the the scraped data of all boutiques available in Google My Business, we are now able to perform a detailed analysis of each review, which can then be seperated per boutique, per country, per broader geographical region, and overall."
   ]
  },
  {
   "cell_type": "code",
   "execution_count": 5,
   "id": "44734618-e320-4994-8453-60b4441297b6",
   "metadata": {},
   "outputs": [],
   "source": [
    "dataStucture = [\"UID\", \"Country\", \"Region\", \"AFINN\", \"anger\", \"anticipation\", \"disgust\", \"fear\", \"joy\", \"negative\", \"positive\", \"sadness\", \"surprise\", \"trust\"]\n",
    "df_perBTQ = pd.DataFrame(columns=dataStucture)\n",
    "df_perCountry = pd.DataFrame(columns=dataStucture[1:])\n",
    "df_perRegion = pd.DataFrame(columns=dataStucture[2:])"
   ]
  },
  {
   "cell_type": "markdown",
   "id": "348705d9-004e-4e4a-9ab6-e280b19ff762",
   "metadata": {},
   "source": [
    "The CSV that was processed has indicators for individual boutiques (_[\"ID\"]_), country (_[\"Country\"]_) and region (_[\"Region\"]_)"
   ]
  },
  {
   "cell_type": "code",
   "execution_count": 6,
   "id": "3e74abbb-f34f-4d93-8e45-65c4cc01c16f",
   "metadata": {},
   "outputs": [
    {
     "data": {
      "text/html": [
       "<div>\n",
       "<style scoped>\n",
       "    .dataframe tbody tr th:only-of-type {\n",
       "        vertical-align: middle;\n",
       "    }\n",
       "\n",
       "    .dataframe tbody tr th {\n",
       "        vertical-align: top;\n",
       "    }\n",
       "\n",
       "    .dataframe thead th {\n",
       "        text-align: right;\n",
       "    }\n",
       "</style>\n",
       "<table border=\"1\" class=\"dataframe\">\n",
       "  <thead>\n",
       "    <tr style=\"text-align: right;\">\n",
       "      <th></th>\n",
       "      <th>UID</th>\n",
       "      <th>title</th>\n",
       "      <th>location/lat</th>\n",
       "      <th>location/lng</th>\n",
       "      <th>address</th>\n",
       "      <th>text</th>\n",
       "      <th>textTranslated</th>\n",
       "      <th>actualText</th>\n",
       "      <th>reviewerId</th>\n",
       "      <th>reviewId</th>\n",
       "      <th>Stars</th>\n",
       "      <th>Country</th>\n",
       "      <th>Region</th>\n",
       "    </tr>\n",
       "  </thead>\n",
       "  <tbody>\n",
       "    <tr>\n",
       "      <th>0</th>\n",
       "      <td>25.0</td>\n",
       "      <td>IWC</td>\n",
       "      <td>31.236862</td>\n",
       "      <td>121.501857</td>\n",
       "      <td>China, Shanghai, Pudong, Lujiazui, 世纪大道8号上海国金中...</td>\n",
       "      <td>NaN</td>\n",
       "      <td>NaN</td>\n",
       "      <td>0</td>\n",
       "      <td>NaN</td>\n",
       "      <td>NaN</td>\n",
       "      <td>NaN</td>\n",
       "      <td>China</td>\n",
       "      <td>AP</td>\n",
       "    </tr>\n",
       "    <tr>\n",
       "      <th>1</th>\n",
       "      <td>33.0</td>\n",
       "      <td>IWC Schaffhausen Boutique – Geneve</td>\n",
       "      <td>46.204155</td>\n",
       "      <td>6.147348</td>\n",
       "      <td>Rue du Rhône 48, 1204 Genève, Switzerland</td>\n",
       "      <td>NaN</td>\n",
       "      <td>NaN</td>\n",
       "      <td>0</td>\n",
       "      <td>103276218157342886127</td>\n",
       "      <td>ChdDSUhNMG9nS0VJQ0FnSURBOWJEUWl3RRAB</td>\n",
       "      <td>5.0</td>\n",
       "      <td>Switzerland</td>\n",
       "      <td>EU</td>\n",
       "    </tr>\n",
       "    <tr>\n",
       "      <th>2</th>\n",
       "      <td>33.0</td>\n",
       "      <td>IWC Schaffhausen Boutique – Geneve</td>\n",
       "      <td>46.204155</td>\n",
       "      <td>6.147348</td>\n",
       "      <td>Rue du Rhône 48, 1204 Genève, Switzerland</td>\n",
       "      <td>NaN</td>\n",
       "      <td>NaN</td>\n",
       "      <td>0</td>\n",
       "      <td>111212756567393344887</td>\n",
       "      <td>ChZDSUhNMG9nS0VJQ0FnSURBMDhhUWFBEAE</td>\n",
       "      <td>3.0</td>\n",
       "      <td>Switzerland</td>\n",
       "      <td>EU</td>\n",
       "    </tr>\n",
       "    <tr>\n",
       "      <th>3</th>\n",
       "      <td>33.0</td>\n",
       "      <td>IWC Schaffhausen Boutique – Geneve</td>\n",
       "      <td>46.204155</td>\n",
       "      <td>6.147348</td>\n",
       "      <td>Rue du Rhône 48, 1204 Genève, Switzerland</td>\n",
       "      <td>I bought the Portuguese seven days here</td>\n",
       "      <td>NaN</td>\n",
       "      <td>I bought the Portuguese seven days here</td>\n",
       "      <td>106605683279110772621</td>\n",
       "      <td>ChZDSUhNMG9nS0VJQ0FnSUN3emRQMFdREAE</td>\n",
       "      <td>5.0</td>\n",
       "      <td>Switzerland</td>\n",
       "      <td>EU</td>\n",
       "    </tr>\n",
       "    <tr>\n",
       "      <th>4</th>\n",
       "      <td>33.0</td>\n",
       "      <td>IWC Schaffhausen Boutique – Geneve</td>\n",
       "      <td>46.204155</td>\n",
       "      <td>6.147348</td>\n",
       "      <td>Rue du Rhône 48, 1204 Genève, Switzerland</td>\n",
       "      <td>NaN</td>\n",
       "      <td>NaN</td>\n",
       "      <td>0</td>\n",
       "      <td>103390353641349883822</td>\n",
       "      <td>ChZDSUhNMG9nS0VJQ0FnSUN3LXVLVlpREAE</td>\n",
       "      <td>5.0</td>\n",
       "      <td>Switzerland</td>\n",
       "      <td>EU</td>\n",
       "    </tr>\n",
       "  </tbody>\n",
       "</table>\n",
       "</div>"
      ],
      "text/plain": [
       "    UID                               title  location/lat  location/lng  \\\n",
       "0  25.0                                 IWC     31.236862    121.501857   \n",
       "1  33.0  IWC Schaffhausen Boutique – Geneve     46.204155      6.147348   \n",
       "2  33.0  IWC Schaffhausen Boutique – Geneve     46.204155      6.147348   \n",
       "3  33.0  IWC Schaffhausen Boutique – Geneve     46.204155      6.147348   \n",
       "4  33.0  IWC Schaffhausen Boutique – Geneve     46.204155      6.147348   \n",
       "\n",
       "                                             address  \\\n",
       "0  China, Shanghai, Pudong, Lujiazui, 世纪大道8号上海国金中...   \n",
       "1          Rue du Rhône 48, 1204 Genève, Switzerland   \n",
       "2          Rue du Rhône 48, 1204 Genève, Switzerland   \n",
       "3          Rue du Rhône 48, 1204 Genève, Switzerland   \n",
       "4          Rue du Rhône 48, 1204 Genève, Switzerland   \n",
       "\n",
       "                                      text textTranslated  \\\n",
       "0                                      NaN            NaN   \n",
       "1                                      NaN            NaN   \n",
       "2                                      NaN            NaN   \n",
       "3  I bought the Portuguese seven days here            NaN   \n",
       "4                                      NaN            NaN   \n",
       "\n",
       "                                actualText             reviewerId  \\\n",
       "0                                        0                    NaN   \n",
       "1                                        0  103276218157342886127   \n",
       "2                                        0  111212756567393344887   \n",
       "3  I bought the Portuguese seven days here  106605683279110772621   \n",
       "4                                        0  103390353641349883822   \n",
       "\n",
       "                               reviewId  Stars      Country Region  \n",
       "0                                   NaN    NaN        China     AP  \n",
       "1  ChdDSUhNMG9nS0VJQ0FnSURBOWJEUWl3RRAB    5.0  Switzerland     EU  \n",
       "2   ChZDSUhNMG9nS0VJQ0FnSURBMDhhUWFBEAE    3.0  Switzerland     EU  \n",
       "3   ChZDSUhNMG9nS0VJQ0FnSUN3emRQMFdREAE    5.0  Switzerland     EU  \n",
       "4   ChZDSUhNMG9nS0VJQ0FnSUN3LXVLVlpREAE    5.0  Switzerland     EU  "
      ]
     },
     "execution_count": 6,
     "metadata": {},
     "output_type": "execute_result"
    }
   ],
   "source": [
    "data = \"processed/JustNPSBoutiqueReviewsscrapedCSV.csv\"\n",
    "df_analysis = pd.read_csv(data)\n",
    "df_analysis = df_analysis[df_analysis['UID'].notna()]\n",
    "df_analysis.reset_index(drop=True, inplace=True)\n",
    "df_analysis.head()"
   ]
  },
  {
   "cell_type": "markdown",
   "id": "adcbae50-15ef-4ee8-aef6-89f6bcfcf523",
   "metadata": {},
   "source": [
    "We can now perform a setiment analysis of all reviews (in the column \"actualText\") and then calculate an average sentiment score over all reviews. This is achieved by using the functions \"afn.score()\" and \"nrc_sentiment()\" for each review and adding them to the unique review. After that, the empty dataframes can be created based on summaries of the other main dataframe. As this will be chain assigned, a warning will be surpressed."
   ]
  },
  {
   "cell_type": "code",
   "execution_count": 7,
   "id": "908fc616-ed78-4ffe-9d51-b2be2f3f1a79",
   "metadata": {},
   "outputs": [],
   "source": [
    "pd.options.mode.chained_assignment = None  # default='warn'"
   ]
  },
  {
   "cell_type": "code",
   "execution_count": 8,
   "id": "cd64644d-bf7f-4cdd-8813-47b8d7dd4c9e",
   "metadata": {},
   "outputs": [],
   "source": [
    "df_analysis[\"AFINN\"] = df_analysis[\"actualText\"].apply(lambda x: afn.score(str(x)))\n",
    "df_analysis[\"anger\"] = df_analysis[\"actualText\"].apply(lambda x: nrc_sentiment(str(x)).iloc[0][\"association\"])\n",
    "df_analysis[\"anticipation\"] = df_analysis[\"actualText\"].apply(lambda x: nrc_sentiment(str(x)).iloc[1][\"association\"])\n",
    "df_analysis[\"disgust\"] = df_analysis[\"actualText\"].apply(lambda x: nrc_sentiment(str(x)).iloc[2][\"association\"])\n",
    "df_analysis[\"fear\"] = df_analysis[\"actualText\"].apply(lambda x: nrc_sentiment(str(x)).iloc[3][\"association\"])\n",
    "df_analysis[\"joy\"] = df_analysis[\"actualText\"].apply(lambda x: nrc_sentiment(str(x)).iloc[4][\"association\"])\n",
    "df_analysis[\"sadness\"] = df_analysis[\"actualText\"].apply(lambda x: nrc_sentiment(str(x)).iloc[7][\"association\"])\n",
    "df_analysis[\"surprise\"] = df_analysis[\"actualText\"].apply(lambda x: nrc_sentiment(str(x)).iloc[8][\"association\"])\n",
    "df_analysis[\"trust\"] = df_analysis[\"actualText\"].apply(lambda x: nrc_sentiment(str(x)).iloc[9][\"association\"])\n",
    "df_analysis.to_csv(\"processed/all_incl_sent.csv\")"
   ]
  },
  {
   "cell_type": "code",
   "execution_count": 8,
   "id": "03b7978d-d478-49d5-a6a6-d58445de9760",
   "metadata": {},
   "outputs": [],
   "source": [
    "df_inclSent = pd.read_csv(\"processed/all_incl_sent.csv\", index_col=[0])"
   ]
  },
  {
   "cell_type": "code",
   "execution_count": 9,
   "id": "f7d0f42c-f120-471f-b8a4-8475a46f9b7e",
   "metadata": {},
   "outputs": [],
   "source": [
    "df_perBTQ[\"UID\"]=df_inclSent[\"UID\"].unique()"
   ]
  },
  {
   "cell_type": "code",
   "execution_count": 10,
   "id": "e1ab8510-3670-4b2b-b7ac-467eb8fc31ef",
   "metadata": {},
   "outputs": [],
   "source": [
    "for boutique in df_perBTQ.UID:\n",
    "    df_btq = df_inclSent.loc[df_inclSent.UID == boutique]\n",
    "    numRev = len(df_btq[df_btq['actualText']!='nothin'])\n",
    "    afinnSum = df_btq.AFINN.sum()\n",
    "    if pd.isnull(afinnSum):\n",
    "        continue\n",
    "    else:\n",
    "        df_perBTQ.AFINN.loc[df_perBTQ.UID == boutique] = afinnSum/numRev\n",
    "        angerSum = df_btq.anger.sum()\n",
    "        anticSum = df_btq.anticipation.sum()\n",
    "        disguSum = df_btq.disgust.sum()\n",
    "        fearSum = df_btq.fear.sum()\n",
    "        joySum = df_btq.joy.sum()\n",
    "        sadnessSum = df_btq.sadness.sum()\n",
    "        surpriseSum = df_btq.surprise.sum()\n",
    "        trustSum = df_btq.trust.sum()\n",
    "        df_perBTQ.anger.loc[df_perBTQ.UID == boutique] = angerSum/numRev\n",
    "        df_perBTQ.anticipation.loc[df_perBTQ.UID == boutique] = anticSum/numRev\n",
    "        df_perBTQ.disgust.loc[df_perBTQ.UID == boutique] = disguSum/numRev\n",
    "        df_perBTQ.fear.loc[df_perBTQ.UID == boutique] = fearSum/numRev\n",
    "        df_perBTQ.joy.loc[df_perBTQ.UID == boutique] = joySum/numRev\n",
    "        df_perBTQ.sadness.loc[df_perBTQ.UID == boutique] = sadnessSum/numRev\n",
    "        df_perBTQ.trust.loc[df_perBTQ.UID == boutique] = trustSum/numRev\n",
    "df_perBTQ\n",
    "df_perBTQ.to_csv(\"processed/PerBTQsent.csv\")\n",
    "    "
   ]
  },
  {
   "cell_type": "code",
   "execution_count": 11,
   "id": "d54993ab-9ea1-4ea2-b262-dbb03e7810f9",
   "metadata": {},
   "outputs": [
    {
     "data": {
      "text/html": [
       "<div>\n",
       "<style scoped>\n",
       "    .dataframe tbody tr th:only-of-type {\n",
       "        vertical-align: middle;\n",
       "    }\n",
       "\n",
       "    .dataframe tbody tr th {\n",
       "        vertical-align: top;\n",
       "    }\n",
       "\n",
       "    .dataframe thead th {\n",
       "        text-align: right;\n",
       "    }\n",
       "</style>\n",
       "<table border=\"1\" class=\"dataframe\">\n",
       "  <thead>\n",
       "    <tr style=\"text-align: right;\">\n",
       "      <th></th>\n",
       "      <th>UID</th>\n",
       "      <th>Country</th>\n",
       "      <th>Region</th>\n",
       "      <th>AFINN</th>\n",
       "      <th>anger</th>\n",
       "      <th>anticipation</th>\n",
       "      <th>disgust</th>\n",
       "      <th>fear</th>\n",
       "      <th>joy</th>\n",
       "      <th>negative</th>\n",
       "      <th>positive</th>\n",
       "      <th>sadness</th>\n",
       "      <th>surprise</th>\n",
       "      <th>trust</th>\n",
       "    </tr>\n",
       "  </thead>\n",
       "  <tbody>\n",
       "    <tr>\n",
       "      <th>0</th>\n",
       "      <td>25.0</td>\n",
       "      <td>NaN</td>\n",
       "      <td>NaN</td>\n",
       "      <td>0.0</td>\n",
       "      <td>0.0</td>\n",
       "      <td>0.0</td>\n",
       "      <td>0.0</td>\n",
       "      <td>0.0</td>\n",
       "      <td>0.0</td>\n",
       "      <td>NaN</td>\n",
       "      <td>NaN</td>\n",
       "      <td>0.0</td>\n",
       "      <td>NaN</td>\n",
       "      <td>0.0</td>\n",
       "    </tr>\n",
       "    <tr>\n",
       "      <th>1</th>\n",
       "      <td>33.0</td>\n",
       "      <td>NaN</td>\n",
       "      <td>NaN</td>\n",
       "      <td>3.694444</td>\n",
       "      <td>0.027778</td>\n",
       "      <td>0.722222</td>\n",
       "      <td>0.055556</td>\n",
       "      <td>0.166667</td>\n",
       "      <td>0.416667</td>\n",
       "      <td>NaN</td>\n",
       "      <td>NaN</td>\n",
       "      <td>0.027778</td>\n",
       "      <td>NaN</td>\n",
       "      <td>0.527778</td>\n",
       "    </tr>\n",
       "    <tr>\n",
       "      <th>2</th>\n",
       "      <td>32.0</td>\n",
       "      <td>NaN</td>\n",
       "      <td>NaN</td>\n",
       "      <td>2.608696</td>\n",
       "      <td>0.086957</td>\n",
       "      <td>0.51087</td>\n",
       "      <td>0.108696</td>\n",
       "      <td>0.26087</td>\n",
       "      <td>0.358696</td>\n",
       "      <td>NaN</td>\n",
       "      <td>NaN</td>\n",
       "      <td>0.173913</td>\n",
       "      <td>NaN</td>\n",
       "      <td>0.619565</td>\n",
       "    </tr>\n",
       "    <tr>\n",
       "      <th>3</th>\n",
       "      <td>23.0</td>\n",
       "      <td>NaN</td>\n",
       "      <td>NaN</td>\n",
       "      <td>1.325</td>\n",
       "      <td>0.1</td>\n",
       "      <td>0.8</td>\n",
       "      <td>0.075</td>\n",
       "      <td>0.25</td>\n",
       "      <td>0.35</td>\n",
       "      <td>NaN</td>\n",
       "      <td>NaN</td>\n",
       "      <td>0.1</td>\n",
       "      <td>NaN</td>\n",
       "      <td>0.75</td>\n",
       "    </tr>\n",
       "    <tr>\n",
       "      <th>4</th>\n",
       "      <td>52.0</td>\n",
       "      <td>NaN</td>\n",
       "      <td>NaN</td>\n",
       "      <td>4.75</td>\n",
       "      <td>0.416667</td>\n",
       "      <td>1.729167</td>\n",
       "      <td>0.458333</td>\n",
       "      <td>0.6875</td>\n",
       "      <td>1.020833</td>\n",
       "      <td>NaN</td>\n",
       "      <td>NaN</td>\n",
       "      <td>0.5</td>\n",
       "      <td>NaN</td>\n",
       "      <td>1.520833</td>\n",
       "    </tr>\n",
       "  </tbody>\n",
       "</table>\n",
       "</div>"
      ],
      "text/plain": [
       "    UID Country Region     AFINN     anger anticipation   disgust      fear  \\\n",
       "0  25.0     NaN    NaN       0.0       0.0          0.0       0.0       0.0   \n",
       "1  33.0     NaN    NaN  3.694444  0.027778     0.722222  0.055556  0.166667   \n",
       "2  32.0     NaN    NaN  2.608696  0.086957      0.51087  0.108696   0.26087   \n",
       "3  23.0     NaN    NaN     1.325       0.1          0.8     0.075      0.25   \n",
       "4  52.0     NaN    NaN      4.75  0.416667     1.729167  0.458333    0.6875   \n",
       "\n",
       "        joy negative positive   sadness surprise     trust  \n",
       "0       0.0      NaN      NaN       0.0      NaN       0.0  \n",
       "1  0.416667      NaN      NaN  0.027778      NaN  0.527778  \n",
       "2  0.358696      NaN      NaN  0.173913      NaN  0.619565  \n",
       "3      0.35      NaN      NaN       0.1      NaN      0.75  \n",
       "4  1.020833      NaN      NaN       0.5      NaN  1.520833  "
      ]
     },
     "execution_count": 11,
     "metadata": {},
     "output_type": "execute_result"
    }
   ],
   "source": [
    "df_perBTQ.head()"
   ]
  },
  {
   "cell_type": "markdown",
   "id": "15ae99f1-e363-45a8-a2bf-bc4d1d568366",
   "metadata": {},
   "source": [
    "## Linear regression\n",
    "\n",
    "We can now use this data summarised by boutique in order to find a statistical correlation between certain sentiments and the performance rank of a given boutique. As the performance rank is based on absolute sales numbers, we are controlling for number of employees (NOE)."
   ]
  },
  {
   "cell_type": "code",
   "execution_count": 3,
   "id": "7ef77b49-ed53-4804-93c7-294a91550e9a",
   "metadata": {},
   "outputs": [],
   "source": [
    "import statsmodels.formula.api as smf\n",
    "from IPython.display import HTML\n",
    "from stargazer.stargazer import Stargazer"
   ]
  },
  {
   "cell_type": "code",
   "execution_count": 10,
   "id": "88beebe2-9747-4589-9c71-0440c0340e38",
   "metadata": {},
   "outputs": [
    {
     "data": {
      "text/html": [
       "<div>\n",
       "<style scoped>\n",
       "    .dataframe tbody tr th:only-of-type {\n",
       "        vertical-align: middle;\n",
       "    }\n",
       "\n",
       "    .dataframe tbody tr th {\n",
       "        vertical-align: top;\n",
       "    }\n",
       "\n",
       "    .dataframe thead th {\n",
       "        text-align: right;\n",
       "    }\n",
       "</style>\n",
       "<table border=\"1\" class=\"dataframe\">\n",
       "  <thead>\n",
       "    <tr style=\"text-align: right;\">\n",
       "      <th></th>\n",
       "      <th>Store name</th>\n",
       "      <th>UID</th>\n",
       "      <th>location</th>\n",
       "      <th>noe</th>\n",
       "      <th>perfrank</th>\n",
       "      <th>countries</th>\n",
       "      <th>region</th>\n",
       "      <th>Stars</th>\n",
       "      <th>NPS</th>\n",
       "      <th>AFINN</th>\n",
       "      <th>anger</th>\n",
       "      <th>anticipation</th>\n",
       "      <th>disgust</th>\n",
       "      <th>fear</th>\n",
       "      <th>joy</th>\n",
       "      <th>sadness</th>\n",
       "      <th>surprise</th>\n",
       "      <th>trust</th>\n",
       "    </tr>\n",
       "  </thead>\n",
       "  <tbody>\n",
       "    <tr>\n",
       "      <th>0</th>\n",
       "      <td>IWC Sydney</td>\n",
       "      <td>1</td>\n",
       "      <td>Downtown</td>\n",
       "      <td>5.0</td>\n",
       "      <td>51.0</td>\n",
       "      <td>Australia</td>\n",
       "      <td>AP</td>\n",
       "      <td>4.4</td>\n",
       "      <td>68.421053</td>\n",
       "      <td>6.708333</td>\n",
       "      <td>0.000000</td>\n",
       "      <td>1.583333</td>\n",
       "      <td>0.083333</td>\n",
       "      <td>0.625000</td>\n",
       "      <td>0.958333</td>\n",
       "      <td>0</td>\n",
       "      <td>0</td>\n",
       "      <td>0.166667</td>\n",
       "    </tr>\n",
       "    <tr>\n",
       "      <th>1</th>\n",
       "      <td>IFS Chengdu</td>\n",
       "      <td>3</td>\n",
       "      <td>Shopping Center</td>\n",
       "      <td>6.0</td>\n",
       "      <td>69.0</td>\n",
       "      <td>China</td>\n",
       "      <td>AP</td>\n",
       "      <td>0.0</td>\n",
       "      <td>100.000000</td>\n",
       "      <td>0.000000</td>\n",
       "      <td>0.000000</td>\n",
       "      <td>0.000000</td>\n",
       "      <td>0.000000</td>\n",
       "      <td>0.000000</td>\n",
       "      <td>0.000000</td>\n",
       "      <td>0</td>\n",
       "      <td>0</td>\n",
       "      <td>0.000000</td>\n",
       "    </tr>\n",
       "    <tr>\n",
       "      <th>2</th>\n",
       "      <td>IWC Madrid</td>\n",
       "      <td>4</td>\n",
       "      <td>High street</td>\n",
       "      <td>4.0</td>\n",
       "      <td>42.0</td>\n",
       "      <td>Spain</td>\n",
       "      <td>EU</td>\n",
       "      <td>4.8</td>\n",
       "      <td>91.919192</td>\n",
       "      <td>4.631579</td>\n",
       "      <td>0.210526</td>\n",
       "      <td>0.947368</td>\n",
       "      <td>0.157895</td>\n",
       "      <td>0.526316</td>\n",
       "      <td>0.684211</td>\n",
       "      <td>0</td>\n",
       "      <td>0</td>\n",
       "      <td>0.421053</td>\n",
       "    </tr>\n",
       "    <tr>\n",
       "      <th>3</th>\n",
       "      <td>Mixcity Shenzhen</td>\n",
       "      <td>5</td>\n",
       "      <td>Shopping Center</td>\n",
       "      <td>6.0</td>\n",
       "      <td>56.0</td>\n",
       "      <td>China</td>\n",
       "      <td>AP</td>\n",
       "      <td>0.0</td>\n",
       "      <td>33.333333</td>\n",
       "      <td>0.000000</td>\n",
       "      <td>0.000000</td>\n",
       "      <td>0.000000</td>\n",
       "      <td>0.000000</td>\n",
       "      <td>0.000000</td>\n",
       "      <td>0.000000</td>\n",
       "      <td>0</td>\n",
       "      <td>0</td>\n",
       "      <td>0.000000</td>\n",
       "    </tr>\n",
       "    <tr>\n",
       "      <th>5</th>\n",
       "      <td>Shinsegae Gangnam</td>\n",
       "      <td>7</td>\n",
       "      <td>Shopping Center</td>\n",
       "      <td>6.0</td>\n",
       "      <td>22.0</td>\n",
       "      <td>South Korea</td>\n",
       "      <td>AP</td>\n",
       "      <td>0.0</td>\n",
       "      <td>63.636364</td>\n",
       "      <td>0.000000</td>\n",
       "      <td>0.000000</td>\n",
       "      <td>0.000000</td>\n",
       "      <td>0.000000</td>\n",
       "      <td>0.000000</td>\n",
       "      <td>0.000000</td>\n",
       "      <td>0</td>\n",
       "      <td>0</td>\n",
       "      <td>0.000000</td>\n",
       "    </tr>\n",
       "  </tbody>\n",
       "</table>\n",
       "</div>"
      ],
      "text/plain": [
       "          Store name  UID         location  noe  perfrank    countries region   \n",
       "0         IWC Sydney    1         Downtown  5.0      51.0    Australia     AP  \\\n",
       "1        IFS Chengdu    3  Shopping Center  6.0      69.0        China     AP   \n",
       "2         IWC Madrid    4      High street  4.0      42.0        Spain     EU   \n",
       "3   Mixcity Shenzhen    5  Shopping Center  6.0      56.0        China     AP   \n",
       "5  Shinsegae Gangnam    7  Shopping Center  6.0      22.0  South Korea     AP   \n",
       "\n",
       "   Stars         NPS     AFINN     anger  anticipation   disgust      fear   \n",
       "0    4.4   68.421053  6.708333  0.000000      1.583333  0.083333  0.625000  \\\n",
       "1    0.0  100.000000  0.000000  0.000000      0.000000  0.000000  0.000000   \n",
       "2    4.8   91.919192  4.631579  0.210526      0.947368  0.157895  0.526316   \n",
       "3    0.0   33.333333  0.000000  0.000000      0.000000  0.000000  0.000000   \n",
       "5    0.0   63.636364  0.000000  0.000000      0.000000  0.000000  0.000000   \n",
       "\n",
       "        joy  sadness  surprise     trust  \n",
       "0  0.958333        0         0  0.166667  \n",
       "1  0.000000        0         0  0.000000  \n",
       "2  0.684211        0         0  0.421053  \n",
       "3  0.000000        0         0  0.000000  \n",
       "5  0.000000        0         0  0.000000  "
      ]
     },
     "execution_count": 10,
     "metadata": {},
     "output_type": "execute_result"
    }
   ],
   "source": [
    "df_perf = pd.read_csv(\"processed/Control Data.csv\")\n",
    "df_perf = df_perf.dropna()\n",
    "df_perf.head()"
   ]
  },
  {
   "cell_type": "code",
   "execution_count": 11,
   "id": "5f9069c1-315f-4842-858f-61033d7248bf",
   "metadata": {},
   "outputs": [],
   "source": [
    "results = smf.ols(\"perfrank ~ AFINN + NPS + anger + anticipation + disgust + fear + joy + trust + location + noe\", data=df_perf).fit()"
   ]
  },
  {
   "cell_type": "code",
   "execution_count": 12,
   "id": "81a8641b-fead-463d-b225-fe87d4b0ea12",
   "metadata": {},
   "outputs": [],
   "source": [
    "stargazer = Stargazer([results])"
   ]
  },
  {
   "cell_type": "code",
   "execution_count": 13,
   "id": "63cef66f-6d03-4750-a39f-8ce4f4b5ec45",
   "metadata": {},
   "outputs": [
    {
     "data": {
      "text/html": [
       "<table style=\"text-align:center\"><tr><td colspan=\"2\" style=\"border-bottom: 1px solid black\"></td></tr><tr><td style=\"text-align:left\"></td><td colspan=\"1\"><em>Dependent variable:perfrank</em></td></tr><tr><td style=\"text-align:left\"></td><tr><td style=\"text-align:left\"></td><td>(1)</td></tr><tr><td colspan=\"2\" style=\"border-bottom: 1px solid black\"></td></tr><tr><td style=\"text-align:left\">AFINN</td><td>-5.864<sup>*</sup></td></tr><tr><td style=\"text-align:left\"></td><td>(3.065)</td></tr><tr><td style=\"text-align:left\">Intercept</td><td>76.408<sup>***</sup></td></tr><tr><td style=\"text-align:left\"></td><td>(19.328)</td></tr><tr><td style=\"text-align:left\">NPS</td><td>-0.045<sup></sup></td></tr><tr><td style=\"text-align:left\"></td><td>(0.115)</td></tr><tr><td style=\"text-align:left\">anger</td><td>-337.108<sup>***</sup></td></tr><tr><td style=\"text-align:left\"></td><td>(116.429)</td></tr><tr><td style=\"text-align:left\">anticipation</td><td>9.863<sup></sup></td></tr><tr><td style=\"text-align:left\"></td><td>(17.218)</td></tr><tr><td style=\"text-align:left\">disgust</td><td>90.569<sup></sup></td></tr><tr><td style=\"text-align:left\"></td><td>(82.145)</td></tr><tr><td style=\"text-align:left\">fear</td><td>-33.735<sup></sup></td></tr><tr><td style=\"text-align:left\"></td><td>(35.319)</td></tr><tr><td style=\"text-align:left\">joy</td><td>44.590<sup>**</sup></td></tr><tr><td style=\"text-align:left\"></td><td>(18.689)</td></tr><tr><td style=\"text-align:left\">location[T.Back Alley]</td><td>-28.304<sup></sup></td></tr><tr><td style=\"text-align:left\"></td><td>(19.750)</td></tr><tr><td style=\"text-align:left\">location[T.Downtown]</td><td>-33.568<sup></sup></td></tr><tr><td style=\"text-align:left\"></td><td>(26.395)</td></tr><tr><td style=\"text-align:left\">location[T.High street]</td><td>-29.470<sup></sup></td></tr><tr><td style=\"text-align:left\"></td><td>(17.805)</td></tr><tr><td style=\"text-align:left\">location[T.Shopping Center]</td><td>-13.655<sup></sup></td></tr><tr><td style=\"text-align:left\"></td><td>(16.434)</td></tr><tr><td style=\"text-align:left\">noe</td><td>-4.000<sup>***</sup></td></tr><tr><td style=\"text-align:left\"></td><td>(1.441)</td></tr><tr><td style=\"text-align:left\">trust</td><td>154.757<sup>*</sup></td></tr><tr><td style=\"text-align:left\"></td><td>(80.592)</td></tr><td colspan=\"2\" style=\"border-bottom: 1px solid black\"></td></tr><tr><td style=\"text-align: left\">Observations</td><td>46</td></tr><tr><td style=\"text-align: left\">R<sup>2</sup></td><td>0.562</td></tr><tr><td style=\"text-align: left\">Adjusted R<sup>2</sup></td><td>0.384</td></tr><tr><td style=\"text-align: left\">Residual Std. Error</td><td>15.934 (df=32)</td></tr><tr><td style=\"text-align: left\">F Statistic</td><td>3.156<sup>***</sup> (df=13; 32)</td></tr><tr><td colspan=\"2\" style=\"border-bottom: 1px solid black\"></td></tr><tr><td style=\"text-align: left\">Note:</td>\n",
       " <td colspan=\"1\" style=\"text-align: right\">\n",
       "  <sup>*</sup>p&lt;0.1;\n",
       "  <sup>**</sup>p&lt;0.05;\n",
       "  <sup>***</sup>p&lt;0.01\n",
       " </td></tr></table>"
      ],
      "text/plain": [
       "<IPython.core.display.HTML object>"
      ]
     },
     "execution_count": 13,
     "metadata": {},
     "output_type": "execute_result"
    }
   ],
   "source": [
    "HTML(stargazer.render_html())"
   ]
  },
  {
   "cell_type": "markdown",
   "id": "0ce64692-d0ed-443e-ac3f-6bd807ab797b",
   "metadata": {},
   "source": [
    "## Keyness analysis\n",
    "\n",
    "Now that we have been able to identify the most relevent potentian predicting emotions for the performance ranking, we can perform a keyness analysis on these datapoints.\n",
    "\n",
    "The best possible way to do so is by finding a relevant corpus and compare the frequencies of certain words to it. When performing a keyness analysis, it is important to find a relevant corpus to compare to. We found the most relevant corpus might be the yelp dataset of online reviews, which we were already able to prepare on word frequencies:"
   ]
  },
  {
   "cell_type": "code",
   "execution_count": null,
   "id": "4da0fc3a-0619-44a8-a096-d1081b93adc4",
   "metadata": {},
   "outputs": [],
   "source": [
    "import numpy as np\n",
    "import pandas as pd\n",
    "pd.options.mode.chained_assignment = None  # default='warn'"
   ]
  },
  {
   "cell_type": "code",
   "execution_count": 2,
   "id": "235258ce-a4f8-4281-bcac-6d681bd6e585",
   "metadata": {},
   "outputs": [],
   "source": [
    "df_yelpCorp = pd.read_csv(\"processed/processed10000chunks.csv\", names=[\"word\", \"frequency\"], header=0)\n",
    "df_yelpCorp[\"relative frequency\"] = df_yelpCorp[\"frequency\"]/df_yelpCorp[\"frequency\"].sum()"
   ]
  },
  {
   "cell_type": "code",
   "execution_count": 3,
   "id": "d26b8573-4006-4d50-82eb-aaf27df30d3d",
   "metadata": {},
   "outputs": [
    {
     "data": {
      "text/html": [
       "<div>\n",
       "<style scoped>\n",
       "    .dataframe tbody tr th:only-of-type {\n",
       "        vertical-align: middle;\n",
       "    }\n",
       "\n",
       "    .dataframe tbody tr th {\n",
       "        vertical-align: top;\n",
       "    }\n",
       "\n",
       "    .dataframe thead th {\n",
       "        text-align: right;\n",
       "    }\n",
       "</style>\n",
       "<table border=\"1\" class=\"dataframe\">\n",
       "  <thead>\n",
       "    <tr style=\"text-align: right;\">\n",
       "      <th></th>\n",
       "      <th>word</th>\n",
       "      <th>frequency</th>\n",
       "      <th>relative frequency</th>\n",
       "    </tr>\n",
       "  </thead>\n",
       "  <tbody>\n",
       "    <tr>\n",
       "      <th>0</th>\n",
       "      <td>the</td>\n",
       "      <td>36711861</td>\n",
       "      <td>0.050124</td>\n",
       "    </tr>\n",
       "    <tr>\n",
       "      <th>1</th>\n",
       "      <td>and</td>\n",
       "      <td>26130923</td>\n",
       "      <td>0.035678</td>\n",
       "    </tr>\n",
       "    <tr>\n",
       "      <th>2</th>\n",
       "      <td>a</td>\n",
       "      <td>18805880</td>\n",
       "      <td>0.025677</td>\n",
       "    </tr>\n",
       "    <tr>\n",
       "      <th>3</th>\n",
       "      <td>i</td>\n",
       "      <td>18989648</td>\n",
       "      <td>0.025927</td>\n",
       "    </tr>\n",
       "    <tr>\n",
       "      <th>4</th>\n",
       "      <td>to</td>\n",
       "      <td>17718243</td>\n",
       "      <td>0.024192</td>\n",
       "    </tr>\n",
       "  </tbody>\n",
       "</table>\n",
       "</div>"
      ],
      "text/plain": [
       "  word  frequency  relative frequency\n",
       "0  the   36711861            0.050124\n",
       "1  and   26130923            0.035678\n",
       "2    a   18805880            0.025677\n",
       "3    i   18989648            0.025927\n",
       "4   to   17718243            0.024192"
      ]
     },
     "execution_count": 3,
     "metadata": {},
     "output_type": "execute_result"
    }
   ],
   "source": [
    "df_yelpCorp.head()"
   ]
  },
  {
   "cell_type": "markdown",
   "id": "95ae598a-5a54-4adf-9d84-6b594d6afc8e",
   "metadata": {},
   "source": [
    "We can now use the data to analyse only certain emotions"
   ]
  },
  {
   "cell_type": "code",
   "execution_count": 7,
   "id": "a6095a88-1737-466a-a63f-e32a1b1e5dc7",
   "metadata": {},
   "outputs": [
    {
     "data": {
      "text/plain": [
       "(80, 22)"
      ]
     },
     "execution_count": 7,
     "metadata": {},
     "output_type": "execute_result"
    }
   ],
   "source": [
    "df_emotionallexicon = pd.read_csv(\"processed/all_incl_sent.csv\", index_col = 0)\n",
    "emotionTBA = \"anger\"\n",
    "df_justEM = df_emotionallexicon[df_emotionallexicon[emotionTBA] >0]\n",
    "df_justEM.shape"
   ]
  },
  {
   "cell_type": "markdown",
   "id": "4bd85d60-84d6-42a9-8793-6be7f5937f47",
   "metadata": {},
   "source": [
    "## WordCount"
   ]
  },
  {
   "cell_type": "code",
   "execution_count": 16,
   "id": "e0ee4b86-9cd9-4b0d-8a18-3b26e10f8023",
   "metadata": {},
   "outputs": [],
   "source": [
    "def wordFrequencies(actualText):\n",
    "    return(actualText.str.split(expand=True).stack().value_counts())"
   ]
  },
  {
   "cell_type": "code",
   "execution_count": 17,
   "id": "dfb5e285-814b-4eb7-9d8d-0bcb79c11db2",
   "metadata": {},
   "outputs": [],
   "source": [
    "wordfreqdct = {}\n",
    "wordFreq = wordFrequencies(df_justEM[\"actualText\"])\n",
    "for word in wordFreq.index:\n",
    "    wordcl = ''.join([i for i in word if i.isalpha()])\n",
    "    wordcl = wordcl.lower()\n",
    "    if wordcl not in wordfreqdct:\n",
    "        wordfreqdct[wordcl] = wordFreq[word]\n",
    "    else:\n",
    "        wordfreqdct[wordcl] += wordFreq[word]\n",
    "df_wordFreq = pd.DataFrame.from_dict(wordfreqdct, orient='index', columns=[\"frequency\"])\n",
    "df_wordFreq.index.name = \"word\"\n",
    "df_wordFreq[\"relative frequency\"]= df_wordFreq[\"frequency\"]/df_wordFreq[\"frequency\"].sum()\n",
    "df_wordFreq = df_wordFreq.reset_index()"
   ]
  },
  {
   "cell_type": "markdown",
   "id": "f415f368-f454-430a-91a6-cfda613f6c48",
   "metadata": {},
   "source": [
    "## Performing keyness analysis\n",
    "According to Gabrielatos & Marchi, 2011 the %DIFF calculation $$ \\%DIFF = {(NFC1 - NFC2) *100 \\over NFC2} $$ where $NFC\\, =\\, Normalised\\, Frequencies$ is the most relevant metric to measure statistically significance of keyness. Therefore:"
   ]
  },
  {
   "cell_type": "code",
   "execution_count": 18,
   "id": "ee4408cf-5ca3-4404-a891-e6b13e3a8111",
   "metadata": {},
   "outputs": [],
   "source": [
    "def diffCalc(word):\n",
    "    DIFF = ((df_wordFreq[\"relative frequency\"].loc[df_wordFreq[\"word\"] == word].values - df_yelpCorp[\"relative frequency\"].loc[df_yelpCorp[\"word\"] == word].values)*100)/(df_yelpCorp[\"relative frequency\"].loc[df_yelpCorp[\"word\"] == word].values)\n",
    "    return DIFF"
   ]
  },
  {
   "cell_type": "code",
   "execution_count": 19,
   "id": "131585d3-1f1e-48da-ba46-0f05a5cdbbfc",
   "metadata": {},
   "outputs": [],
   "source": [
    "def returnreffreq(word):\n",
    "    reffreq = df_yelpCorp[\"relative frequency\"].loc[df_yelpCorp[\"word\"] == word].values\n",
    "    return reffreq.astype(np.float64)"
   ]
  },
  {
   "cell_type": "code",
   "execution_count": 10,
   "id": "00cb25ea-965e-4385-926d-6544dbb57ef3",
   "metadata": {},
   "outputs": [],
   "source": [
    "df_wordFreq[\"RelFreqComp\"] = df_wordFreq[\"word\"].apply(lambda x: returnreffreq(x))\n",
    "df_wordFreq[\"%DIFF\"] = df_wordFreq[\"word\"].apply(lambda x: diffCalc(x))"
   ]
  },
  {
   "cell_type": "code",
   "execution_count": 11,
   "id": "2e7f3709-7501-4d4a-9360-ec2de36dc3b1",
   "metadata": {},
   "outputs": [],
   "source": [
    "df_wordFreq = df_wordFreq.sort_values(by=[\"%DIFF\"], ascending=False)"
   ]
  },
  {
   "cell_type": "code",
   "execution_count": 12,
   "id": "d6b35abb-d063-41b3-a616-703106be863d",
   "metadata": {},
   "outputs": [],
   "source": [
    "df_wordFreq.to_csv(\"processed/\"+emotionTBA+\"keyness.csv\")"
   ]
  },
  {
   "cell_type": "markdown",
   "id": "7a9d3c8c-04aa-4e35-a11b-ceee0e257706",
   "metadata": {},
   "source": [
    "This data can now be analysed in Excel. As can be seen, the outlying \"%DIFF\" values occur among the values where the NFC2 values are infinitesimal. The data therefore needs to be cleaned of those values."
   ]
  },
  {
   "cell_type": "markdown",
   "id": "61db83ba-2ac5-4462-98a9-3b3c55acbf40",
   "metadata": {},
   "source": [
    "## Keyness analysis for overalll IWC and competitors\n",
    "\n",
    "Now that we have the keyness analysis for the specific emotions, it might be interesting to see the %DIFF values of all the reviews and IWC's competitors in order to assure the %DIFF values are smaller for certain keys. E.g.: If in the \"joy\" dataset, the keyness of \"welcoming\" is high, it might be interesting to see what the keyness of it is in all the reviews of all IWC boutiques and IWC's competitors"
   ]
  },
  {
   "cell_type": "code",
   "execution_count": 38,
   "id": "5a37d27a-b0ae-4ed2-80c5-1657f3e31dbd",
   "metadata": {},
   "outputs": [],
   "source": [
    "df_IWC = pd.read_csv(\"Data/JustNPSBoutiqueReviewsscrapedCSV.csv\")\n",
    "df_comp = pd.read_csv(\"Data/Comp.csv\")\n",
    "both = [df_IWC, df_comp]"
   ]
  },
  {
   "cell_type": "code",
   "execution_count": null,
   "id": "7175e59d-9024-4b2c-83d2-ee7af189848d",
   "metadata": {},
   "outputs": [],
   "source": [
    "for data in both:\n",
    "    name =[x for x in globals() if globals()[x] is data][0]\n",
    "    wordfreqdct = {}\n",
    "    wordFreq = wordFrequencies(data[\"actualText\"])\n",
    "    for word in wordFreq.index:\n",
    "        wordcl = ''.join([i for i in word if i.isalpha()])\n",
    "        wordcl = wordcl.lower()\n",
    "        if wordcl not in wordfreqdct:\n",
    "            wordfreqdct[wordcl] = wordFreq[word]\n",
    "        else:\n",
    "            wordfreqdct[wordcl] += wordFreq[word]\n",
    "    df_wordFreq = pd.DataFrame.from_dict(wordfreqdct, orient='index', columns=[\"frequency\"])\n",
    "    df_wordFreq.index.name = \"word\"\n",
    "    df_wordFreq[\"relative frequency\"]= df_wordFreq[\"frequency\"]/df_wordFreq[\"frequency\"].sum()\n",
    "    df_wordFreq = df_wordFreq.reset_index()\n",
    "    df_wordFreq[\"RelFreqComp\"] = df_wordFreq[\"word\"].apply(lambda x: returnreffreq(x))\n",
    "    df_wordFreq[\"%DIFF\"] = df_wordFreq[\"word\"].apply(lambda x: diffCalc(x))\n",
    "    df_wordFreq = df_wordFreq.sort_values(by=[\"%DIFF\"], ascending=False)\n",
    "    df_wordFreq.to_csv(\"processed/\"+name+\"keyness.csv\")\n",
    "    "
   ]
  },
  {
   "cell_type": "markdown",
   "id": "9bdf0107-1c26-4d88-a95c-26dd4d395d42",
   "metadata": {},
   "source": [
    "## Adding reference frequencies to dataset\n",
    "\n",
    "We can now add these reference frequencies to the the datasets that have been created by the emotions to be analysed in order to gain more statistical insight"
   ]
  },
  {
   "cell_type": "code",
   "execution_count": 47,
   "id": "0279895d-be74-4e47-b0b3-3834482fb3ab",
   "metadata": {},
   "outputs": [],
   "source": [
    "df_joy = pd.read_csv(\"processed/joykeyness.csv\", index_col=0)\n",
    "df_anger = pd.read_csv(\"processed/angerkeyness.csv\", index_col=0)\n",
    "df_IWC = pd.read_csv(\"processed/df_IWCkeyness.csv\", index_col=0)\n",
    "df_comp = pd.read_csv(\"processed/df_compkeyness.csv\", index_col=0)\n",
    "both = [df_joy, df_anger]"
   ]
  },
  {
   "cell_type": "code",
   "execution_count": 46,
   "id": "feccd66b-a18b-4e20-9809-f2676a0d77fe",
   "metadata": {},
   "outputs": [],
   "source": [
    "for data in both:\n",
    "    data[\"Compared to IWC\"] = data[\"word\"].apply(lambda x:df_IWC.loc[df_IWC[\"word\"] == x][\"%DIFF\"].values)\n",
    "    data[\"Compared to comp\"] = data[\"word\"].apply(lambda x:df_comp.loc[df_comp[\"word\"] == x][\"%DIFF\"].values)\n",
    "\n",
    "df_joy.to_csv(\"processed/joykeynessINCLCOMP.csv\")\n",
    "df_anger.to_csv(\"processed/angekeynessINCLCOMP.csv\")"
   ]
  }
 ],
 "metadata": {
  "kernelspec": {
   "display_name": "Python 3 (ipykernel)",
   "language": "python",
   "name": "python3"
  },
  "language_info": {
   "codemirror_mode": {
    "name": "ipython",
    "version": 3
   },
   "file_extension": ".py",
   "mimetype": "text/x-python",
   "name": "python",
   "nbconvert_exporter": "python",
   "pygments_lexer": "ipython3",
   "version": "3.10.9"
  }
 },
 "nbformat": 4,
 "nbformat_minor": 5
}
